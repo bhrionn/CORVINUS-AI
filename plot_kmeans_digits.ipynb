{
  "metadata": {
    "kernelspec": {
      "name": "python3",
      "display_name": "Python 3 (ipykernel)",
      "language": "python"
    },
    "language_info": {
      "codemirror_mode": {
        "name": "ipython",
        "version": 3
      },
      "file_extension": ".py",
      "mimetype": "text/x-python",
      "name": "python",
      "nbconvert_exporter": "python",
      "pygments_lexer": "ipython3",
      "version": "3.9.18"
    },
    "colab": {
      "provenance": [],
      "include_colab_link": true
    }
  },
  "nbformat_minor": 0,
  "nbformat": 4,
  "cells": [
    {
      "cell_type": "markdown",
      "metadata": {
        "id": "view-in-github",
        "colab_type": "text"
      },
      "source": [
        "<a href=\"https://colab.research.google.com/github/bhrionn/CORVINUS-AI/blob/main/plot_kmeans_digits.ipynb\" target=\"_parent\"><img src=\"https://colab.research.google.com/assets/colab-badge.svg\" alt=\"Open In Colab\"/></a>"
      ]
    },
    {
      "cell_type": "markdown",
      "source": [
        "\n",
        "# A demo of K-Means clustering on the handwritten digits data\n",
        "\n",
        "In this example we compare the various initialization strategies for K-means in\n",
        "terms of runtime and quality of the results.\n",
        "\n",
        "As the ground truth is known here, we also apply different cluster quality\n",
        "metrics to judge the goodness of fit of the cluster labels to the ground truth.\n",
        "\n",
        "Cluster quality metrics evaluated (see `clustering_evaluation` for\n",
        "definitions and discussions of the metrics):\n",
        "\n",
        "=========== ========================================================\n",
        "Shorthand    full name\n",
        "=========== ========================================================\n",
        "homo         homogeneity score\n",
        "compl        completeness score\n",
        "v-meas       V measure\n",
        "ARI          adjusted Rand index\n",
        "AMI          adjusted mutual information\n",
        "silhouette   silhouette coefficient\n",
        "=========== ========================================================\n"
      ],
      "metadata": {
        "id": "7ttmeJBzIx6e"
      }
    },
    {
      "cell_type": "markdown",
      "source": [
        "## Load the dataset\n",
        "\n",
        "We will start by loading the `digits` dataset. This dataset contains\n",
        "handwritten digits from 0 to 9. In the context of clustering, one would like\n",
        "to group images such that the handwritten digits on the image are the same.\n",
        "\n"
      ],
      "metadata": {
        "id": "JEStWMZgIx6h"
      }
    },
    {
      "cell_type": "code",
      "source": [
        "import numpy as np\n",
        "\n",
        "from sklearn.datasets import load_digits\n",
        "\n",
        "data, labels = load_digits(return_X_y=True)\n",
        "(n_samples, n_features), n_digits = data.shape, np.unique(labels).size\n",
        "\n",
        "print(f\"# digits: {n_digits}; # samples: {n_samples}; # features {n_features}\")"
      ],
      "metadata": {
        "jupyter": {
          "outputs_hidden": false
        },
        "id": "SiTfYwH4Ix6h",
        "outputId": "d8b07143-a3cf-417d-b138-ae87aca58e27",
        "colab": {
          "base_uri": "https://localhost:8080/"
        }
      },
      "execution_count": 1,
      "outputs": [
        {
          "output_type": "stream",
          "name": "stdout",
          "text": [
            "# digits: 10; # samples: 1797; # features 64\n"
          ]
        }
      ]
    },
    {
      "cell_type": "markdown",
      "source": [
        "## Define our evaluation benchmark\n",
        "\n",
        "We will first our evaluation benchmark. During this benchmark, we intend to\n",
        "compare different initialization methods for KMeans. Our benchmark will:\n",
        "\n",
        "* create a pipeline which will scale the data using a\n",
        "  :class:`~sklearn.preprocessing.StandardScaler`;\n",
        "* train and time the pipeline fitting;\n",
        "* measure the performance of the clustering obtained via different metrics.\n",
        "\n"
      ],
      "metadata": {
        "id": "r-AIYKctIx6i"
      }
    },
    {
      "cell_type": "code",
      "source": [
        "from time import time\n",
        "\n",
        "from sklearn import metrics\n",
        "from sklearn.pipeline import make_pipeline\n",
        "from sklearn.preprocessing import StandardScaler\n",
        "\n",
        "\n",
        "def bench_k_means(kmeans, name, data, labels):\n",
        "    \"\"\"Benchmark to evaluate the KMeans initialization methods.\n",
        "\n",
        "    Parameters\n",
        "    ----------\n",
        "    kmeans : KMeans instance\n",
        "        A :class:`~sklearn.cluster.KMeans` instance with the initialization\n",
        "        already set.\n",
        "    name : str\n",
        "        Name given to the strategy. It will be used to show the results in a\n",
        "        table.\n",
        "    data : ndarray of shape (n_samples, n_features)\n",
        "        The data to cluster.\n",
        "    labels : ndarray of shape (n_samples,)\n",
        "        The labels used to compute the clustering metrics which requires some\n",
        "        supervision.\n",
        "    \"\"\"\n",
        "    t0 = time()\n",
        "    estimator = make_pipeline(StandardScaler(), kmeans).fit(data)\n",
        "    fit_time = time() - t0\n",
        "    results = [name, fit_time, estimator[-1].inertia_]\n",
        "\n",
        "    # Define the metrics which require only the true labels and estimator\n",
        "    # labels\n",
        "    clustering_metrics = [\n",
        "        metrics.homogeneity_score,\n",
        "        metrics.completeness_score,\n",
        "        metrics.v_measure_score,\n",
        "        metrics.adjusted_rand_score,\n",
        "        metrics.adjusted_mutual_info_score,\n",
        "    ]\n",
        "    results += [m(labels, estimator[-1].labels_) for m in clustering_metrics]\n",
        "\n",
        "    # The silhouette score requires the full dataset\n",
        "    results += [\n",
        "        metrics.silhouette_score(\n",
        "            data,\n",
        "            estimator[-1].labels_,\n",
        "            metric=\"euclidean\",\n",
        "            sample_size=300,\n",
        "        )\n",
        "    ]\n",
        "\n",
        "    # Show the results\n",
        "    formatter_result = (\n",
        "        \"{:9s}\\t{:.3f}s\\t{:.0f}\\t{:.3f}\\t{:.3f}\\t{:.3f}\\t{:.3f}\\t{:.3f}\\t{:.3f}\"\n",
        "    )\n",
        "    print(formatter_result.format(*results))"
      ],
      "metadata": {
        "jupyter": {
          "outputs_hidden": false
        },
        "id": "M7mL7mb-Ix6i"
      },
      "execution_count": 2,
      "outputs": []
    },
    {
      "cell_type": "markdown",
      "source": [
        "## Run the benchmark\n",
        "\n",
        "We will compare three approaches:\n",
        "\n",
        "* an initialization using `k-means++`. This method is stochastic and we will\n",
        "  run the initialization 4 times;\n",
        "* a random initialization. This method is stochastic as well and we will run\n",
        "  the initialization 4 times;\n",
        "* an initialization based on a :class:`~sklearn.decomposition.PCA`\n",
        "  projection. Indeed, we will use the components of the\n",
        "  :class:`~sklearn.decomposition.PCA` to initialize KMeans. This method is\n",
        "  deterministic and a single initialization suffice.\n",
        "\n"
      ],
      "metadata": {
        "id": "5BIfHIUjIx6j"
      }
    },
    {
      "cell_type": "code",
      "source": [
        "from sklearn.cluster import KMeans\n",
        "from sklearn.decomposition import PCA\n",
        "\n",
        "print(82 * \"_\")\n",
        "print(\"init\\t\\ttime\\tinertia\\thomo\\tcompl\\tv-meas\\tARI\\tAMI\\tsilhouette\")\n",
        "\n",
        "kmeans = KMeans(init=\"k-means++\", n_clusters=n_digits, n_init=4, random_state=0)\n",
        "bench_k_means(kmeans=kmeans, name=\"k-means++\", data=data, labels=labels)\n",
        "\n",
        "kmeans = KMeans(init=\"random\", n_clusters=n_digits, n_init=4, random_state=0)\n",
        "bench_k_means(kmeans=kmeans, name=\"random\", data=data, labels=labels)\n",
        "\n",
        "pca = PCA(n_components=n_digits).fit(data)\n",
        "kmeans = KMeans(init=pca.components_, n_clusters=n_digits, n_init=1)\n",
        "bench_k_means(kmeans=kmeans, name=\"PCA-based\", data=data, labels=labels)\n",
        "\n",
        "print(82 * \"_\")"
      ],
      "metadata": {
        "jupyter": {
          "outputs_hidden": false
        },
        "id": "hjT1OKwsIx6j",
        "outputId": "efa8674b-0b9d-47bf-ae25-f8782b58c400",
        "colab": {
          "base_uri": "https://localhost:8080/"
        }
      },
      "execution_count": 3,
      "outputs": [
        {
          "output_type": "stream",
          "name": "stdout",
          "text": [
            "__________________________________________________________________________________\n",
            "init\t\ttime\tinertia\thomo\tcompl\tv-meas\tARI\tAMI\tsilhouette\n",
            "k-means++\t2.382s\t69662\t0.680\t0.719\t0.699\t0.570\t0.695\t0.179\n",
            "random   \t0.760s\t69707\t0.675\t0.716\t0.694\t0.560\t0.691\t0.182\n",
            "PCA-based\t0.184s\t72713\t0.637\t0.659\t0.648\t0.521\t0.644\t0.140\n",
            "__________________________________________________________________________________\n"
          ]
        }
      ]
    },
    {
      "cell_type": "markdown",
      "source": [
        "## Visualize the results on PCA-reduced data\n",
        "\n",
        ":class:`~sklearn.decomposition.PCA` allows to project the data from the\n",
        "original 64-dimensional space into a lower dimensional space. Subsequently,\n",
        "we can use :class:`~sklearn.decomposition.PCA` to project into a\n",
        "2-dimensional space and plot the data and the clusters in this new space.\n",
        "\n"
      ],
      "metadata": {
        "id": "ulKy9ZKtIx6j"
      }
    },
    {
      "cell_type": "code",
      "source": [
        "import matplotlib.pyplot as plt\n",
        "\n",
        "reduced_data = PCA(n_components=2).fit_transform(data)\n",
        "kmeans = KMeans(init=\"k-means++\", n_clusters=n_digits, n_init=4)\n",
        "kmeans.fit(reduced_data)\n",
        "\n",
        "# Step size of the mesh. Decrease to increase the quality of the VQ.\n",
        "h = 0.02  # point in the mesh [x_min, x_max]x[y_min, y_max].\n",
        "\n",
        "# Plot the decision boundary. For that, we will assign a color to each\n",
        "x_min, x_max = reduced_data[:, 0].min() - 1, reduced_data[:, 0].max() + 1\n",
        "y_min, y_max = reduced_data[:, 1].min() - 1, reduced_data[:, 1].max() + 1\n",
        "xx, yy = np.meshgrid(np.arange(x_min, x_max, h), np.arange(y_min, y_max, h))\n",
        "\n",
        "# Obtain labels for each point in mesh. Use last trained model.\n",
        "Z = kmeans.predict(np.c_[xx.ravel(), yy.ravel()])\n",
        "\n",
        "# Put the result into a color plot\n",
        "Z = Z.reshape(xx.shape)\n",
        "plt.figure(1)\n",
        "plt.clf()\n",
        "plt.imshow(\n",
        "    Z,\n",
        "    interpolation=\"nearest\",\n",
        "    extent=(xx.min(), xx.max(), yy.min(), yy.max()),\n",
        "    cmap=plt.cm.Paired,\n",
        "    aspect=\"auto\",\n",
        "    origin=\"lower\",\n",
        ")\n",
        "\n",
        "plt.plot(reduced_data[:, 0], reduced_data[:, 1], \"k.\", markersize=2)\n",
        "# Plot the centroids as a white X\n",
        "centroids = kmeans.cluster_centers_\n",
        "plt.scatter(\n",
        "    centroids[:, 0],\n",
        "    centroids[:, 1],\n",
        "    marker=\"x\",\n",
        "    s=169,\n",
        "    linewidths=3,\n",
        "    color=\"w\",\n",
        "    zorder=10,\n",
        ")\n",
        "plt.title(\n",
        "    \"K-means clustering on the digits dataset (PCA-reduced data)\\n\"\n",
        "    \"Centroids are marked with white cross\"\n",
        ")\n",
        "plt.xlim(x_min, x_max)\n",
        "plt.ylim(y_min, y_max)\n",
        "plt.xticks(())\n",
        "plt.yticks(())\n",
        "plt.show()"
      ],
      "metadata": {
        "jupyter": {
          "outputs_hidden": false
        },
        "id": "1-UplY1NIx6j",
        "outputId": "1d0f56b2-1332-4fc8-9a13-f4b9c37d91cf",
        "colab": {
          "base_uri": "https://localhost:8080/",
          "height": 449
        }
      },
      "execution_count": 4,
      "outputs": [
        {
          "output_type": "display_data",
          "data": {
            "text/plain": [
              "<Figure size 640x480 with 1 Axes>"
            ],
            "image/png": "[encoded data removed]"
          },
          "metadata": {}
        }
      ]
    }
  ]
}